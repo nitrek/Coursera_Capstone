{
 "cells": [
  {
   "cell_type": "markdown",
   "metadata": {},
   "source": [
    "# Week 2 Capstone : Foursquare API "
   ]
  },
  {
   "cell_type": "markdown",
   "metadata": {},
   "source": [
    "## Made by Nitesh Singh"
   ]
  },
  {
   "cell_type": "code",
   "execution_count": 1,
   "metadata": {},
   "outputs": [],
   "source": [
    "import json, requests\n",
    "url = 'https://api.foursquare.com/v2/venues/explore'\n",
    "\n",
    "params = dict(\n",
    "client_id='IN2GVHY32X2YAJOTZKQKSSNZRFSP2VALOQSN53YSHVA3DDDB',\n",
    "client_secret='32GM4DL1X45IW5CGGMAL5TIX2MFEI03OIWUG2H3M2TE452JS',\n",
    "v='20180323',\n",
    "ll='40.7243,-74.0018',\n",
    "query='coffee',\n",
    "limit=1\n",
    ")\n",
    "resp = requests.get(url=url, params=params)\n",
    "data = json.loads(resp.text)"
   ]
  },
  {
   "cell_type": "code",
   "execution_count": 2,
   "metadata": {},
   "outputs": [
    {
     "data": {
      "text/plain": [
       "{'meta': {'code': 200, 'requestId': '5ec00dbb949393001b6688c4'},\n",
       " 'response': {'suggestedFilters': {'header': 'Tap to show:',\n",
       "   'filters': [{'name': 'Open now', 'key': 'openNow'},\n",
       "    {'name': '$-$$$$', 'key': 'price'}]},\n",
       "  'warning': {'text': 'There aren\\'t a lot of results for \"coffee.\" Try something more general, reset your filters, or expand the search area.'},\n",
       "  'suggestedRadius': 600,\n",
       "  'headerLocation': 'SoHo',\n",
       "  'headerFullLocation': 'SoHo, New York',\n",
       "  'headerLocationGranularity': 'neighborhood',\n",
       "  'query': 'coffee',\n",
       "  'totalResults': 58,\n",
       "  'suggestedBounds': {'ne': {'lat': 40.72445115622661,\n",
       "    'lng': -74.00383671516222},\n",
       "   'sw': {'lat': 40.72175149644116, 'lng': -74.00111827835521}},\n",
       "  'groups': [{'type': 'Recommended Places',\n",
       "    'name': 'recommended',\n",
       "    'items': [{'reasons': {'count': 0,\n",
       "       'items': [{'summary': 'This spot is popular',\n",
       "         'type': 'general',\n",
       "         'reasonName': 'globalInteractionReason'}]},\n",
       "      'venue': {'id': '45e98bacf964a52080431fe3',\n",
       "       'name': 'MarieBelle',\n",
       "       'contact': {},\n",
       "       'location': {'address': '484 Broome St',\n",
       "        'crossStreet': 'btwn W Broadway & Wooster St',\n",
       "        'lat': 40.72310132633388,\n",
       "        'lng': -74.00247749675871,\n",
       "        'labeledLatLngs': [{'label': 'display',\n",
       "          'lat': 40.72310132633388,\n",
       "          'lng': -74.00247749675871}],\n",
       "        'distance': 145,\n",
       "        'postalCode': '10013',\n",
       "        'cc': 'US',\n",
       "        'city': 'New York',\n",
       "        'state': 'NY',\n",
       "        'country': 'United States',\n",
       "        'formattedAddress': ['484 Broome St (btwn W Broadway & Wooster St)',\n",
       "         'New York, NY 10013',\n",
       "         'United States']},\n",
       "       'categories': [{'id': '4bf58dd8d48988d1d0941735',\n",
       "         'name': 'Dessert Shop',\n",
       "         'pluralName': 'Dessert Shops',\n",
       "         'shortName': 'Desserts',\n",
       "         'icon': {'prefix': 'https://ss3.4sqi.net/img/categories_v2/food/dessert_',\n",
       "          'suffix': '.png'},\n",
       "         'primary': True}],\n",
       "       'verified': True,\n",
       "       'stats': {'tipCount': 0,\n",
       "        'usersCount': 0,\n",
       "        'checkinsCount': 0,\n",
       "        'visitsCount': 0},\n",
       "       'beenHere': {'count': 0,\n",
       "        'lastCheckinExpiredAt': 0,\n",
       "        'marked': False,\n",
       "        'unconfirmedCount': 0},\n",
       "       'photos': {'count': 0, 'groups': []},\n",
       "       'venuePage': {'id': '81170724'},\n",
       "       'hereNow': {'count': 0, 'summary': 'Nobody here', 'groups': []}},\n",
       "      'referralId': 'e-0-45e98bacf964a52080431fe3-0'}]}]}}"
      ]
     },
     "execution_count": 2,
     "metadata": {},
     "output_type": "execute_result"
    }
   ],
   "source": [
    "data"
   ]
  },
  {
   "cell_type": "code",
   "execution_count": null,
   "metadata": {},
   "outputs": [],
   "source": []
  }
 ],
 "metadata": {
  "kernelspec": {
   "display_name": "Python 3",
   "language": "python",
   "name": "python3"
  },
  "language_info": {
   "codemirror_mode": {
    "name": "ipython",
    "version": 3
   },
   "file_extension": ".py",
   "mimetype": "text/x-python",
   "name": "python",
   "nbconvert_exporter": "python",
   "pygments_lexer": "ipython3",
   "version": "3.7.6"
  }
 },
 "nbformat": 4,
 "nbformat_minor": 4
}
