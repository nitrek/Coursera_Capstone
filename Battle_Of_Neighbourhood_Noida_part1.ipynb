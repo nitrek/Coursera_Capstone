{
 "cells": [
  {
   "cell_type": "markdown",
   "metadata": {},
   "source": [
    "# The Battle of Neighbourhoods of Delhi - Capstone Project"
   ]
  },
  {
   "cell_type": "markdown",
   "metadata": {},
   "source": [
    "### Introduction\n",
    "Noida, short for the New Okhla Industrial Development Authority, is a planned city under the management of the New Okhla Industrial Development Authority (also called NOIDA). It is a satellite city of Delhi and is part of the National Capital Region of India. As per provisional reports of Census of India, the population of Noida in 2011 was 642,381. Noida is located in Gautam Buddh Nagar district of Uttar Pradesh state in close proximity to NCT of Delhi. The district's administrative headquarters are in the nearby city of Greater Noida.\n",
    "\n",
    "The city is a part of the Noida (Vidhan Sabha) constituency and Gautam Buddha Nagar (Lok Sabha) constituency. Minister of State for Culture and Tourism Mahesh Sharma is the present Lok Sabha MP of Gautam Buddha Nagar, while Pankaj Singh is the present MLA of Noida\n",
    "\n",
    "Noida was ranked as the Best City in Uttar Pradesh and the Best City in Housing in all of India in \"Best City Awards\" conducted by ABP News in 2015. Noida replaced Mumbai as the second-best realty destination, according to an analyst report. Roads in Noida are lined by trees and it is considered to be India's greenest city with nearly 50% green cover, the highest of any city in India.It's GDP is estimated to be around $25 Billion as of 2019.\n",
    "</p>\n",
    "With it’s diverse culture , comes diverse food items. There are many restaurants in New Delhi City, each belonging to different categories like Chinese , Italian , French etc.\n",
    "Noida is also a hub for food , it has multiple mall and resturants.Many sectors and ares are dedicated to food places and they cover diverse cuisine\n",
    "\n",
    "So as part of this project , we will list and visualise all major parts of Noida .\n",
    "   </p>"
   ]
  },
  {
   "cell_type": "markdown",
   "metadata": {},
   "source": [
    " ### Questions that can be asked using the above mentioned datasets\n",
    "- What is best location in Noida for South Indian ? \n",
    "- Which areas have large number of South Indian Resturant Market ? \n",
    "- Which all areas have less number of resturant ?\n",
    "- Which is the best place to stay if I prefer South Indian Cuisine ?\n",
    "- What places are have best restaurant in Noida?"
   ]
  },
  {
   "cell_type": "markdown",
   "metadata": {},
   "source": [
    "### Data\n",
    "For this project we need the following data :\n",
    "<ul>\n",
    "<li> Noida Resturants data that contains list Locality, Resturant name,Rating along with their latitude and longitude.\n",
    "    <ul>\n",
    "        <li>Data source : <a href=\"https://www.kaggle.com/shrutimehta/zomato-restaurants-data\">Zomato kaggel dataset</a>\n",
    " <li> Description : This data set contains the required information. And we will use this data set to explore various locality of new delhi city.\n",
    "     </ul>\n",
    "<li> Nearby places in each locality of new delhi city.\n",
    "        <ul>\n",
    "            <li>Data source : <a href=\"https://developer.foursquare.com/\"> Fousquare API </a>\n",
    "        <li> Description : By using this api we will get all the venues in each neighborhood. \n",
    "    "
   ]
  },
  {
   "cell_type": "markdown",
   "metadata": {},
   "source": [
    "### Approach\n",
    "- Collect the new delhi city data from <a href=\"https://www.kaggle.com/shrutimehta/zomato-restaurants-data\">Zomato kaggel dataset</a>\n",
    "- Using FourSquare API we will find all venues for each neighborhood.\n",
    "- Filter out all venues that are nearby by locality.\n",
    "- Using aggregative rating for each resturant to find the best places.\n",
    "- Visualize the Ranking of neighborhoods using folium library(python)"
   ]
  },
  {
   "cell_type": "code",
   "execution_count": null,
   "metadata": {},
   "outputs": [],
   "source": []
  }
 ],
 "metadata": {
  "kernelspec": {
   "display_name": "Python 3",
   "language": "python",
   "name": "python3"
  },
  "language_info": {
   "codemirror_mode": {
    "name": "ipython",
    "version": 3
   },
   "file_extension": ".py",
   "mimetype": "text/x-python",
   "name": "python",
   "nbconvert_exporter": "python",
   "pygments_lexer": "ipython3",
   "version": "3.7.6"
  }
 },
 "nbformat": 4,
 "nbformat_minor": 4
}
